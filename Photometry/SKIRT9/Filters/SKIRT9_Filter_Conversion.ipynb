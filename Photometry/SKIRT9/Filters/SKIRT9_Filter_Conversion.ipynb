{
 "cells": [
  {
   "cell_type": "code",
   "execution_count": 45,
   "id": "34bd402c-83d0-4482-9d22-0d86414ad39a",
   "metadata": {},
   "outputs": [
    {
     "name": "stdout",
     "output_type": "stream",
     "text": [
      "CFHT_MegaCam.r.dat\n",
      "0.6382587077002766\n",
      "CFHT_MegaCam.u.dat\n",
      "0.3676116622283926\n",
      "Spitzer_IRAC.I1.dat\n",
      "3.537841063025199\n",
      "Spitzer_IRAC.I2.dat\n",
      "4.47804851620293\n",
      "Spitzer_IRAC.I3.dat\n",
      "5.69617816790326\n",
      "Spitzer_IRAC.I4.dat\n",
      "7.797839195517652\n",
      "Subaru_HSC.Y.dat\n",
      "0.9775071767519288\n",
      "Subaru_HSC.g.dat\n",
      "0.47982082073076493\n",
      "Subaru_HSC.i.dat\n",
      "0.7727013207278469\n",
      "Subaru_HSC.r.dat\n",
      "0.6218442965074332\n",
      "Subaru_HSC.z.dat\n",
      "0.8908502909990401\n",
      "UKIRT_UKIDSS.H.dat\n",
      "1.6354330088092153\n",
      "UKIRT_UKIDSS.J.dat\n",
      "1.2501181984257952\n",
      "UKIRT_UKIDSS.K.dat\n",
      "2.20583623053632\n"
     ]
    },
    {
     "data": {
      "image/png": "[encoded data removed]",
      "text/plain": [
       "<Figure size 720x360 with 1 Axes>"
      ]
     },
     "metadata": {
      "needs_background": "light"
     },
     "output_type": "display_data"
    }
   ],
   "source": [
    "import numpy as np\n",
    "from glob import glob\n",
    "import matplotlib.pyplot as plt\n",
    "\n",
    "filt_dir = '/lustre/work/connor.bottrell/Simulations/IllustrisTNG/Scripts/SKIRT/Photometry/Filters/'\n",
    "tran_dir = '/lustre/work/connor.bottrell/Simulations/IllustrisTNG/Scripts/SKIRT/Photometry/SKIRT9/Filters/'\n",
    "\n",
    "filt_names = list(sorted([filt.split('/')[-1] for filt in glob(f'{filt_dir}/*.dat')]))\n",
    "             \n",
    "fig,ax = plt.subplots(figsize=(10,5))\n",
    "ax.set_xlabel('Wavelength, $\\mu$m')\n",
    "ax.set_ylabel('$T(\\lambda) = \\lambda R(\\lambda)$ ($\\mu$m)')\n",
    "\n",
    "for filt in filt_names:\n",
    "    # wl angstrom, response unitless\n",
    "    wl,response = np.loadtxt(f'{filt_dir}/{filt}',unpack=True) \n",
    "    wl*=1e-4 # to microns\n",
    "    # transmission correction for energy counters / photon counters\n",
    "    if 'Spitzer_IRAC' in filt:\n",
    "        transmission = response\n",
    "    else:\n",
    "        transmission = response*wl\n",
    "    ax.plot(wl,transmission)\n",
    "    ax.set_xlim(1,20)\n",
    "    np.savetxt(f'{tran_dir}/{filt}',np.column_stack([wl,transmission]))\n",
    "    \n",
    "    \n",
    "    print(filt)\n",
    "    print(np.sqrt(np.trapz(transmission,wl)/np.trapz(transmission/wl**2,wl)))\n",
    "    \n",
    "    \n",
    "\n"
   ]
  },
  {
   "cell_type": "code",
   "execution_count": 7,
   "id": "ceb9da23-c6b8-4278-b3ff-5b871f4afdfb",
   "metadata": {},
   "outputs": [
    {
     "name": "stdout",
     "output_type": "stream",
     "text": [
      "['CFHT_MegaCam.u' 'Subaru_HSC.g' 'Subaru_HSC.r' 'CFHT_MegaCam.r'\n",
      " 'Subaru_HSC.i' 'Subaru_HSC.z' 'Subaru_HSC.Y' 'UKIRT_UKIDSS.J'\n",
      " 'UKIRT_UKIDSS.H' 'UKIRT_UKIDSS.K' 'Spitzer_IRAC.I1' 'Spitzer_IRAC.I2']\n"
     ]
    }
   ],
   "source": [
    "import numpy as np\n",
    "import copy\n",
    "\n",
    "project_path = '/lustre/work/connor.bottrell/Simulations/IllustrisTNG'\n",
    "skirt_path = f'{project_path}/Scripts/SKIRT'\n",
    "band_dir = f'{skirt_path}/Photometry/SKIRT9/Filters'\n",
    "bands = ['CFHT_MegaCam.u','CFHT_MegaCam.r',\n",
    "       'Subaru_HSC.g','Subaru_HSC.r','Subaru_HSC.i','Subaru_HSC.z','Subaru_HSC.Y',\n",
    "       'UKIRT_UKIDSS.J','UKIRT_UKIDSS.H','UKIRT_UKIDSS.K',\n",
    "       'Spitzer_IRAC.I1','Spitzer_IRAC.I2','Spitzer_IRAC.I3','Spitzer_IRAC.I4']\n",
    "\n",
    "wl_min,wl_max,wl_probe=0.1,5,0.55\n",
    "redshift=0.099999\n",
    "# band_names_in = [f'{band_path}/{band}.dat' for band in bands]\n",
    "# band_names,wl_pivot = [],[]\n",
    "# for band_name in band_names_in:\n",
    "#     wl_band,transmission = np.loadtxt(band_name,unpack=True)\n",
    "#     if (wl_max*(1+redshift) >= wl_band[-1]) and (wl_min*(1+redshift) <= wl_band[0]):\n",
    "#         band_names.append(band_name)\n",
    "#         wl_pivot.append(np.sqrt(np.trapz(transmission,wl_band)/np.trapz(transmission/wl_band**2,wl_band)))\n",
    "        \n",
    "        \n",
    "# order bandpasses by pivot wl (skirt output default) and write to .ski\n",
    "band_dir = f'{skirt_path}/Photometry/SKIRT9/Filters'\n",
    "wl_pivot = []\n",
    "for band in copy.copy(bands):\n",
    "    wl_band,transmission = np.loadtxt(f'{band_dir}/{band}.dat',unpack=True)\n",
    "    if (wl_max*(1+redshift) < wl_band[-1]) or (wl_min*(1+redshift) > wl_band[0]):\n",
    "        # band is removed if it source spectrum does not cover its entire range\n",
    "        bands.remove(band)\n",
    "    else:\n",
    "        # band stays and its pivot wavelenght is computed and appended\n",
    "        wl_pivot.append(np.sqrt(np.trapz(transmission,wl_band)/np.trapz(transmission/wl_band**2,wl_band)))\n",
    "        \n",
    "# sort_idx = np.argsort(wl_pivot)\n",
    "# band_names = np.array(band_names)[sort_idx]\n",
    "sort_idx = np.argsort(wl_pivot)\n",
    "bands = np.array(bands)[sort_idx]\n",
    "print(bands)\n",
    "\n",
    "# print([band_name.split('/')[-1].strip('.dat') for band_name in band_names])  \n"
   ]
  },
  {
   "cell_type": "code",
   "execution_count": 14,
   "id": "0076467d-44d8-43b9-8504-99d247bccf46",
   "metadata": {},
   "outputs": [
    {
     "data": {
      "text/plain": [
       "223948800.0"
      ]
     },
     "execution_count": 14,
     "metadata": {},
     "output_type": "execute_result"
    }
   ],
   "source": [
    "(216*1e3/100)**2*32/8*12"
   ]
  },
  {
   "cell_type": "code",
   "execution_count": null,
   "id": "ba817a3d-dbc5-42d2-9779-a1c87def4f16",
   "metadata": {},
   "outputs": [],
   "source": []
  }
 ],
 "metadata": {
  "kernelspec": {
   "display_name": "Python 3",
   "language": "python",
   "name": "python3"
  },
  "language_info": {
   "codemirror_mode": {
    "name": "ipython",
    "version": 3
   },
   "file_extension": ".py",
   "mimetype": "text/x-python",
   "name": "python",
   "nbconvert_exporter": "python",
   "pygments_lexer": "ipython3",
   "version": "3.9.5"
  }
 },
 "nbformat": 4,
 "nbformat_minor": 5
}
